{
  "nbformat": 4,
  "nbformat_minor": 0,
  "metadata": {
    "kernelspec": {
      "display_name": "Python 3",
      "language": "python",
      "name": "python3"
    },
    "language_info": {
      "codemirror_mode": {
        "name": "ipython",
        "version": 3
      },
      "file_extension": ".py",
      "mimetype": "text/x-python",
      "name": "python",
      "nbconvert_exporter": "python",
      "pygments_lexer": "ipython3",
      "version": "3.7.6"
    },
    "varInspector": {
      "cols": {
        "lenName": 16,
        "lenType": 16,
        "lenVar": 40
      },
      "kernels_config": {
        "python": {
          "delete_cmd_postfix": "",
          "delete_cmd_prefix": "del ",
          "library": "var_list.py",
          "varRefreshCmd": "print(var_dic_list())"
        },
        "r": {
          "delete_cmd_postfix": ") ",
          "delete_cmd_prefix": "rm(",
          "library": "var_list.r",
          "varRefreshCmd": "cat(var_dic_list()) "
        }
      },
      "oldHeight": 122.4,
      "position": {
        "height": "204.391px",
        "left": "1496.39px",
        "right": "20px",
        "top": "136px",
        "width": "371px"
      },
      "types_to_exclude": [
        "module",
        "function",
        "builtin_function_or_method",
        "instance",
        "_Feature"
      ],
      "varInspector_section_display": "block",
      "window_display": false
    },
    "colab": {
      "name": "Module 4 - D1 Part 1 - Intro",
      "provenance": [],
      "collapsed_sections": [
        "Yn0IqD1zMJSo",
        "Q_i7kEV2MJSs"
      ]
    }
  },
  "cells": [
    {
      "cell_type": "markdown",
      "metadata": {
        "id": "DVHj7ne4MJSb"
      },
      "source": [
        "\n",
        "\n",
        "```\n",
        "# Ini diformat sebagai kode\n",
        "```\n",
        "\n",
        "# Introduction to Python"
      ]
    },
    {
      "cell_type": "markdown",
      "metadata": {
        "id": "tqMEZgJuMJSd"
      },
      "source": [
        "This notebook will go through the basic topics in order:\n",
        "* Data types\n",
        "    * Strings\n",
        "    * Numbers\n",
        "    * Sequence (list, tuple, sets)\n",
        "    * Dict\n",
        "    * Boolean\n",
        "* Assign Values\n",
        "* Output Variables\n",
        "* Operators (arithmetic,  assignment, comparison, bitwise, etc)\n",
        "* if, elif, else Statements\n",
        "* Functions\n",
        "* Loops\n",
        "* Lambda expressions\n",
        "* Classes/Objects\n",
        "\n",
        "---\n",
        "\n",
        "\n",
        "____"
      ]
    },
    {
      "cell_type": "markdown",
      "metadata": {
        "id": "oX-IHgFqMJSe"
      },
      "source": [
        "## Data types"
      ]
    },
    {
      "cell_type": "markdown",
      "metadata": {
        "id": "Ch-K46BPMJSk"
      },
      "source": [
        "### Strings"
      ]
    },
    {
      "cell_type": "code",
      "metadata": {
        "id": "hnWHPwtiMJSk",
        "colab": {
          "base_uri": "https://localhost:8080/",
          "height": 35
        },
        "outputId": "a983a85d-560f-418e-dc25-1f21cb87ab1e"
      },
      "source": [
        "# Data type string (single quotes)\n",
        "'single quotes'"
      ],
      "execution_count": null,
      "outputs": [
        {
          "output_type": "execute_result",
          "data": {
            "text/plain": [
              "'single quotes'"
            ],
            "application/vnd.google.colaboratory.intrinsic+json": {
              "type": "string"
            }
          },
          "metadata": {},
          "execution_count": 1
        }
      ]
    },
    {
      "cell_type": "code",
      "metadata": {
        "id": "XUNelOxJMJSk",
        "colab": {
          "base_uri": "https://localhost:8080/",
          "height": 35
        },
        "outputId": "d6e9a509-d1c6-405c-fc1c-4e245b142cbd"
      },
      "source": [
        "# Data type string (double quotes)\n",
        "\"double quotes\""
      ],
      "execution_count": null,
      "outputs": [
        {
          "output_type": "execute_result",
          "data": {
            "text/plain": [
              "'double quotes'"
            ],
            "application/vnd.google.colaboratory.intrinsic+json": {
              "type": "string"
            }
          },
          "metadata": {},
          "execution_count": 2
        }
      ]
    },
    {
      "cell_type": "code",
      "metadata": {
        "id": "rsMZVg-AMJSk",
        "colab": {
          "base_uri": "https://localhost:8080/",
          "height": 35
        },
        "outputId": "9673939f-6b58-44d6-e68f-0a96cc975360"
      },
      "source": [
        "\" wrap lot's of other quotes\"\n",
        "# Atau\n",
        "' wrap lot\\'s of other quotes'"
      ],
      "execution_count": null,
      "outputs": [
        {
          "output_type": "execute_result",
          "data": {
            "text/plain": [
              "\" wrap lot's of other quotes\""
            ],
            "application/vnd.google.colaboratory.intrinsic+json": {
              "type": "string"
            }
          },
          "metadata": {},
          "execution_count": 3
        }
      ]
    },
    {
      "cell_type": "code",
      "metadata": {
        "id": "9BvLvYsiMJSk",
        "colab": {
          "base_uri": "https://localhost:8080/"
        },
        "outputId": "9539874e-822f-48c5-be03-91ec5f66e7ad"
      },
      "source": [
        "q = \"\"\"\n",
        "abcd\n",
        "efgh\n",
        "ijkl\n",
        "\"\"\"\n",
        "print(q)"
      ],
      "execution_count": null,
      "outputs": [
        {
          "output_type": "stream",
          "name": "stdout",
          "text": [
            "\n",
            "abcd\n",
            "efgh\n",
            "ijkl\n",
            "\n"
          ]
        }
      ]
    },
    {
      "cell_type": "markdown",
      "metadata": {
        "id": "jPniUR5xBBI7"
      },
      "source": [
        "### Numbers and Operators"
      ]
    },
    {
      "cell_type": "code",
      "metadata": {
        "id": "uVCgl92OMJSe"
      },
      "source": [
        "2+3"
      ],
      "execution_count": null,
      "outputs": []
    },
    {
      "cell_type": "code",
      "metadata": {
        "id": "x1q5wmX3MJSf"
      },
      "source": [
        "1 - 1"
      ],
      "execution_count": null,
      "outputs": []
    },
    {
      "cell_type": "code",
      "metadata": {
        "id": "f3PqVlCQMJSf"
      },
      "source": [
        "\"1\""
      ],
      "execution_count": null,
      "outputs": []
    },
    {
      "cell_type": "code",
      "metadata": {
        "id": "q1_LqOohMJSg"
      },
      "source": [
        "1"
      ],
      "execution_count": null,
      "outputs": []
    },
    {
      "cell_type": "code",
      "metadata": {
        "scrolled": true,
        "id": "Yy8HG0byMJSg"
      },
      "source": [
        "print(\"1\")"
      ],
      "execution_count": null,
      "outputs": []
    },
    {
      "cell_type": "code",
      "metadata": {
        "id": "qsE3uQKPMJSh"
      },
      "source": [
        "1 * 3"
      ],
      "execution_count": null,
      "outputs": []
    },
    {
      "cell_type": "code",
      "metadata": {
        "id": "BBHhf2KSMJSh"
      },
      "source": [
        "7 / 3"
      ],
      "execution_count": null,
      "outputs": []
    },
    {
      "cell_type": "code",
      "metadata": {
        "id": "iIVi9Bg4MJSh",
        "colab": {
          "base_uri": "https://localhost:8080/"
        },
        "outputId": "3ed5fa2c-6a0d-494e-a474-e3a1ad2550eb"
      },
      "source": [
        "#Integer Division\n",
        "7 // 3"
      ],
      "execution_count": null,
      "outputs": [
        {
          "output_type": "execute_result",
          "data": {
            "text/plain": [
              "2"
            ]
          },
          "metadata": {},
          "execution_count": 5
        }
      ]
    },
    {
      "cell_type": "code",
      "metadata": {
        "id": "TAX8S4pTMJSi",
        "colab": {
          "base_uri": "https://localhost:8080/"
        },
        "outputId": "c8d3ecc7-19b8-4538-9a57-4ea539244392"
      },
      "source": [
        "#Raised to the Power\n",
        "2 ** 3"
      ],
      "execution_count": null,
      "outputs": [
        {
          "output_type": "execute_result",
          "data": {
            "text/plain": [
              "8"
            ]
          },
          "metadata": {},
          "execution_count": 6
        }
      ]
    },
    {
      "cell_type": "code",
      "metadata": {
        "id": "qQS4mCFKMJSi",
        "colab": {
          "base_uri": "https://localhost:8080/"
        },
        "outputId": "dd54e1d3-3aae-435b-88f7-af8b57e00ed8"
      },
      "source": [
        "#Remainder\n",
        "4 % 2"
      ],
      "execution_count": null,
      "outputs": [
        {
          "output_type": "execute_result",
          "data": {
            "text/plain": [
              "0"
            ]
          },
          "metadata": {},
          "execution_count": 7
        }
      ]
    },
    {
      "cell_type": "code",
      "metadata": {
        "id": "yedxMr-0MJSi",
        "colab": {
          "base_uri": "https://localhost:8080/"
        },
        "outputId": "04f1fc4a-1e7e-4351-cb5c-435392c1b3da"
      },
      "source": [
        "#Remainder\n",
        "5 % 2"
      ],
      "execution_count": null,
      "outputs": [
        {
          "output_type": "execute_result",
          "data": {
            "text/plain": [
              "1"
            ]
          },
          "metadata": {},
          "execution_count": 8
        }
      ]
    },
    {
      "cell_type": "code",
      "metadata": {
        "id": "lvzGdFg3MJSi",
        "colab": {
          "base_uri": "https://localhost:8080/"
        },
        "outputId": "cb666cf4-7598-4349-d4e0-8c432e55bc6c"
      },
      "source": [
        "(2 + 3) * (5 + 5)"
      ],
      "execution_count": null,
      "outputs": [
        {
          "output_type": "execute_result",
          "data": {
            "text/plain": [
              "50"
            ]
          },
          "metadata": {},
          "execution_count": 9
        }
      ]
    },
    {
      "cell_type": "markdown",
      "metadata": {
        "id": "k5Jn5PWiMJSl"
      },
      "source": [
        "### Lists\n"
      ]
    },
    {
      "cell_type": "markdown",
      "metadata": {
        "id": "VC0C0Qp9C1UK"
      },
      "source": [
        "Created with `[]` bracket, used to contain data"
      ]
    },
    {
      "cell_type": "code",
      "metadata": {
        "id": "fCZTMKEmMJSl",
        "colab": {
          "base_uri": "https://localhost:8080/"
        },
        "outputId": "6f7e79c3-87a5-4cff-e23e-05a5d1b124c6"
      },
      "source": [
        "[1,2,3]"
      ],
      "execution_count": null,
      "outputs": [
        {
          "output_type": "execute_result",
          "data": {
            "text/plain": [
              "[1, 2, 3]"
            ]
          },
          "metadata": {},
          "execution_count": 10
        }
      ]
    },
    {
      "cell_type": "code",
      "metadata": {
        "id": "UdNSapHyMJSm",
        "colab": {
          "base_uri": "https://localhost:8080/"
        },
        "outputId": "b33fba0e-b138-4dc5-9141-e737a101db2d"
      },
      "source": [
        "['hi',1,1.25,[1,2]]"
      ],
      "execution_count": null,
      "outputs": [
        {
          "output_type": "execute_result",
          "data": {
            "text/plain": [
              "['hi', 1, 1.25, [1, 2]]"
            ]
          },
          "metadata": {},
          "execution_count": 11
        }
      ]
    },
    {
      "cell_type": "code",
      "metadata": {
        "id": "iUeHjMQNMJSm"
      },
      "source": [
        "my_list = ['a','b','c']"
      ],
      "execution_count": null,
      "outputs": []
    },
    {
      "cell_type": "code",
      "metadata": {
        "id": "ldGal7kOMJSm"
      },
      "source": [
        "my_list.append('d')"
      ],
      "execution_count": null,
      "outputs": []
    },
    {
      "cell_type": "code",
      "metadata": {
        "id": "VXdQe5Z1MJSm",
        "colab": {
          "base_uri": "https://localhost:8080/"
        },
        "outputId": "b690f863-3650-4c18-8386-0a68412be0d6"
      },
      "source": [
        "my_list"
      ],
      "execution_count": null,
      "outputs": [
        {
          "output_type": "execute_result",
          "data": {
            "text/plain": [
              "['a', 'b', 'c', 'd']"
            ]
          },
          "metadata": {},
          "execution_count": 30
        }
      ]
    },
    {
      "cell_type": "code",
      "metadata": {
        "id": "t3POlfv9MJSm",
        "colab": {
          "base_uri": "https://localhost:8080/",
          "height": 35
        },
        "outputId": "54da4bed-b51c-4dd7-ba1f-72f79d8fc4bd"
      },
      "source": [
        "my_list[0]"
      ],
      "execution_count": null,
      "outputs": [
        {
          "output_type": "execute_result",
          "data": {
            "text/plain": [
              "'a'"
            ],
            "application/vnd.google.colaboratory.intrinsic+json": {
              "type": "string"
            }
          },
          "metadata": {},
          "execution_count": 31
        }
      ]
    },
    {
      "cell_type": "code",
      "metadata": {
        "id": "OueA156pMJSm",
        "colab": {
          "base_uri": "https://localhost:8080/",
          "height": 35
        },
        "outputId": "06ced1f3-68fd-4cd9-a036-1547bf7d81d2"
      },
      "source": [
        "my_list[1]"
      ],
      "execution_count": null,
      "outputs": [
        {
          "output_type": "execute_result",
          "data": {
            "text/plain": [
              "'b'"
            ],
            "application/vnd.google.colaboratory.intrinsic+json": {
              "type": "string"
            }
          },
          "metadata": {},
          "execution_count": 32
        }
      ]
    },
    {
      "cell_type": "code",
      "metadata": {
        "id": "G9oEc0cAMJSm",
        "colab": {
          "base_uri": "https://localhost:8080/"
        },
        "outputId": "6b24a55f-65b9-4cdf-d9ab-02b5f4d69120"
      },
      "source": [
        "my_list[1:3]"
      ],
      "execution_count": null,
      "outputs": [
        {
          "output_type": "execute_result",
          "data": {
            "text/plain": [
              "['b', 'c']"
            ]
          },
          "metadata": {},
          "execution_count": 33
        }
      ]
    },
    {
      "cell_type": "code",
      "metadata": {
        "id": "xJ0-mkXNMJSm",
        "colab": {
          "base_uri": "https://localhost:8080/"
        },
        "outputId": "667ac762-4d4a-4407-e1db-9ef548e4ea6b"
      },
      "source": [
        "my_list[1:]"
      ],
      "execution_count": null,
      "outputs": [
        {
          "output_type": "execute_result",
          "data": {
            "text/plain": [
              "['b', 'c', 'd']"
            ]
          },
          "metadata": {},
          "execution_count": 34
        }
      ]
    },
    {
      "cell_type": "code",
      "metadata": {
        "id": "1PSqRrBHMJSn",
        "colab": {
          "base_uri": "https://localhost:8080/"
        },
        "outputId": "6b35d6b8-68c7-4cca-db14-a83f3d854c40"
      },
      "source": [
        "my_list[:1]"
      ],
      "execution_count": null,
      "outputs": [
        {
          "output_type": "execute_result",
          "data": {
            "text/plain": [
              "['a']"
            ]
          },
          "metadata": {},
          "execution_count": 20
        }
      ]
    },
    {
      "cell_type": "code",
      "metadata": {
        "id": "MripiXB-MJSn"
      },
      "source": [
        "my_list[0] = 'NEW'"
      ],
      "execution_count": null,
      "outputs": []
    },
    {
      "cell_type": "code",
      "metadata": {
        "id": "rRDz6Z0vMJSn",
        "colab": {
          "base_uri": "https://localhost:8080/"
        },
        "outputId": "5787b09b-04cc-4861-b452-d8ae09fb4b7b"
      },
      "source": [
        "my_list"
      ],
      "execution_count": null,
      "outputs": [
        {
          "output_type": "execute_result",
          "data": {
            "text/plain": [
              "['NEW', 'b', 'c', 'd']"
            ]
          },
          "metadata": {},
          "execution_count": 25
        }
      ]
    },
    {
      "cell_type": "code",
      "metadata": {
        "id": "Uqu1X3VOMJSn"
      },
      "source": [
        "nest = [1,2,3,[4,5,['target']]]"
      ],
      "execution_count": null,
      "outputs": []
    },
    {
      "cell_type": "code",
      "metadata": {
        "id": "lflqCnCJMJSn",
        "colab": {
          "base_uri": "https://localhost:8080/"
        },
        "outputId": "f7f5ad8f-c17b-4036-bf3e-0cd6f5b19c24"
      },
      "source": [
        "nest[3]"
      ],
      "execution_count": null,
      "outputs": [
        {
          "output_type": "execute_result",
          "data": {
            "text/plain": [
              "[4, 5, ['target']]"
            ]
          },
          "metadata": {},
          "execution_count": 37
        }
      ]
    },
    {
      "cell_type": "code",
      "metadata": {
        "id": "kEtVvRGJMJSn",
        "colab": {
          "base_uri": "https://localhost:8080/"
        },
        "outputId": "ea652ea0-da83-425d-90c9-66c44132df96"
      },
      "source": [
        "nest[3][2]"
      ],
      "execution_count": null,
      "outputs": [
        {
          "output_type": "execute_result",
          "data": {
            "text/plain": [
              "['target']"
            ]
          },
          "metadata": {},
          "execution_count": 38
        }
      ]
    },
    {
      "cell_type": "code",
      "metadata": {
        "id": "Y2UJtVbWMJSn",
        "colab": {
          "base_uri": "https://localhost:8080/",
          "height": 35
        },
        "outputId": "ad6c0620-f4e3-4e5c-e2f5-4ac31b142a9f"
      },
      "source": [
        "nest[3][2][0]"
      ],
      "execution_count": null,
      "outputs": [
        {
          "output_type": "execute_result",
          "data": {
            "text/plain": [
              "'target'"
            ],
            "application/vnd.google.colaboratory.intrinsic+json": {
              "type": "string"
            }
          },
          "metadata": {},
          "execution_count": 39
        }
      ]
    },
    {
      "cell_type": "code",
      "metadata": {
        "id": "t86Zu1pKMJSn",
        "colab": {
          "base_uri": "https://localhost:8080/",
          "height": 166
        },
        "outputId": "2c80d69f-8f60-40ac-d8c5-8a1a97359b91"
      },
      "source": [
        "# Error karena mencoba akses array 2 yang merupakan int sederhana dan tidak ada sub nest\n",
        "nest[2][1][0]"
      ],
      "execution_count": null,
      "outputs": [
        {
          "output_type": "error",
          "ename": "TypeError",
          "evalue": "ignored",
          "traceback": [
            "\u001b[0;31m---------------------------------------------------------------------------\u001b[0m",
            "\u001b[0;31mTypeError\u001b[0m                                 Traceback (most recent call last)",
            "\u001b[0;32m<ipython-input-40-f05588390d0a>\u001b[0m in \u001b[0;36m<module>\u001b[0;34m()\u001b[0m\n\u001b[0;32m----> 1\u001b[0;31m \u001b[0mnest\u001b[0m\u001b[0;34m[\u001b[0m\u001b[0;36m2\u001b[0m\u001b[0;34m]\u001b[0m\u001b[0;34m[\u001b[0m\u001b[0;36m1\u001b[0m\u001b[0;34m]\u001b[0m\u001b[0;34m[\u001b[0m\u001b[0;36m0\u001b[0m\u001b[0;34m]\u001b[0m\u001b[0;34m\u001b[0m\u001b[0;34m\u001b[0m\u001b[0m\n\u001b[0m",
            "\u001b[0;31mTypeError\u001b[0m: 'int' object is not subscriptable"
          ]
        }
      ]
    },
    {
      "cell_type": "markdown",
      "metadata": {
        "id": "w28PcHFPMJSn"
      },
      "source": [
        "### Dictionaries"
      ]
    },
    {
      "cell_type": "code",
      "metadata": {
        "id": "wIFqRbwOMJSn"
      },
      "source": [
        "d = {'key1':'item1',2:1}"
      ],
      "execution_count": null,
      "outputs": []
    },
    {
      "cell_type": "code",
      "metadata": {
        "id": "Akbup8n0MJSn",
        "colab": {
          "base_uri": "https://localhost:8080/"
        },
        "outputId": "8118c30a-9a1f-4c31-e908-c452c257a6e9"
      },
      "source": [
        "d"
      ],
      "execution_count": null,
      "outputs": [
        {
          "output_type": "execute_result",
          "data": {
            "text/plain": [
              "{2: 1, 'key1': 'item1'}"
            ]
          },
          "metadata": {},
          "execution_count": 42
        }
      ]
    },
    {
      "cell_type": "code",
      "metadata": {
        "id": "Amb8hmnTMJSo",
        "colab": {
          "base_uri": "https://localhost:8080/",
          "height": 35
        },
        "outputId": "7d2cc28c-a9f2-4d87-bce1-95201784b84d"
      },
      "source": [
        "d['key1']"
      ],
      "execution_count": null,
      "outputs": [
        {
          "output_type": "execute_result",
          "data": {
            "text/plain": [
              "'item1'"
            ],
            "application/vnd.google.colaboratory.intrinsic+json": {
              "type": "string"
            }
          },
          "metadata": {},
          "execution_count": 43
        }
      ]
    },
    {
      "cell_type": "code",
      "metadata": {
        "id": "Lms8xDvlMJSo",
        "colab": {
          "base_uri": "https://localhost:8080/"
        },
        "outputId": "63fa64ae-5fb0-4df3-ff4d-7ee285028894"
      },
      "source": [
        "d.keys()"
      ],
      "execution_count": null,
      "outputs": [
        {
          "output_type": "execute_result",
          "data": {
            "text/plain": [
              "dict_keys(['key1', 2])"
            ]
          },
          "metadata": {},
          "execution_count": 44
        }
      ]
    },
    {
      "cell_type": "code",
      "source": [
        "another_dictionary = {\n",
        "    '1': 'satu',\n",
        "    '2': 'dua',\n",
        "    '3': 'tiga'\n",
        "}"
      ],
      "metadata": {
        "id": "JzEwtlqFSy8F"
      },
      "execution_count": null,
      "outputs": []
    },
    {
      "cell_type": "code",
      "source": [
        "print(another_dictionary['3'])"
      ],
      "metadata": {
        "colab": {
          "base_uri": "https://localhost:8080/"
        },
        "id": "ocdHHI8QS9mK",
        "outputId": "df53fcbb-161d-4ef0-eee9-e975d1476f38"
      },
      "execution_count": null,
      "outputs": [
        {
          "output_type": "stream",
          "name": "stdout",
          "text": [
            "tiga\n"
          ]
        }
      ]
    },
    {
      "cell_type": "markdown",
      "metadata": {
        "id": "OjHHfYfJB0VU"
      },
      "source": [
        "### Boolean"
      ]
    },
    {
      "cell_type": "code",
      "metadata": {
        "id": "ZrhE0UjRCMDx",
        "colab": {
          "base_uri": "https://localhost:8080/"
        },
        "outputId": "ab9f682d-7b9f-49f1-a723-aab84b007e6e"
      },
      "source": [
        "2 + 4 < 10"
      ],
      "execution_count": null,
      "outputs": [
        {
          "output_type": "execute_result",
          "data": {
            "text/plain": [
              "True"
            ]
          },
          "metadata": {},
          "execution_count": 48
        }
      ]
    },
    {
      "cell_type": "code",
      "metadata": {
        "id": "F5kBH1JaCOef",
        "colab": {
          "base_uri": "https://localhost:8080/"
        },
        "outputId": "9e687a6d-14d3-4b4a-bd0d-876f1e7b1cac"
      },
      "source": [
        "34567 < 8910"
      ],
      "execution_count": null,
      "outputs": [
        {
          "output_type": "execute_result",
          "data": {
            "text/plain": [
              "False"
            ]
          },
          "metadata": {},
          "execution_count": 49
        }
      ]
    },
    {
      "cell_type": "code",
      "metadata": {
        "id": "sGx98GB8CccE",
        "colab": {
          "base_uri": "https://localhost:8080/"
        },
        "outputId": "7c466680-8c8b-4933-f641-ee3cfd771e3d"
      },
      "source": [
        "\"go\" + \"jek\" == \"gojek\""
      ],
      "execution_count": null,
      "outputs": [
        {
          "output_type": "execute_result",
          "data": {
            "text/plain": [
              "True"
            ]
          },
          "metadata": {},
          "execution_count": 50
        }
      ]
    },
    {
      "cell_type": "code",
      "metadata": {
        "id": "SrELdt28CWuF",
        "colab": {
          "base_uri": "https://localhost:8080/"
        },
        "outputId": "c5e0a915-d7c0-4d0c-85e7-dd6205fd93cf"
      },
      "source": [
        "\"go\" + \"jek\" == \"goto\""
      ],
      "execution_count": null,
      "outputs": [
        {
          "output_type": "execute_result",
          "data": {
            "text/plain": [
              "False"
            ]
          },
          "metadata": {},
          "execution_count": 51
        }
      ]
    },
    {
      "cell_type": "code",
      "metadata": {
        "id": "uQMrHEjrB3n5",
        "colab": {
          "base_uri": "https://localhost:8080/"
        },
        "outputId": "39565b5f-114f-4817-a855-762d763783d7"
      },
      "source": [
        "10 % 2 == 0"
      ],
      "execution_count": null,
      "outputs": [
        {
          "output_type": "execute_result",
          "data": {
            "text/plain": [
              "True"
            ]
          },
          "metadata": {},
          "execution_count": 52
        }
      ]
    },
    {
      "cell_type": "code",
      "source": [
        "(10 % 2 == 0) and \"go\" + \"jek\" == \"goto\""
      ],
      "metadata": {
        "colab": {
          "base_uri": "https://localhost:8080/"
        },
        "id": "DD75c95SVoY3",
        "outputId": "85f08913-f737-4aab-80b2-0ffaf7ac46d4"
      },
      "execution_count": null,
      "outputs": [
        {
          "output_type": "execute_result",
          "data": {
            "text/plain": [
              "False"
            ]
          },
          "metadata": {},
          "execution_count": 53
        }
      ]
    },
    {
      "cell_type": "markdown",
      "metadata": {
        "id": "z4t5mn9iMJSj"
      },
      "source": [
        "## Variable Assignment"
      ]
    },
    {
      "cell_type": "code",
      "metadata": {
        "id": "2btOUY7QMJSj"
      },
      "source": [
        "# Can not start with number or special characters\n",
        "name_of_var = 2"
      ],
      "execution_count": null,
      "outputs": []
    },
    {
      "cell_type": "code",
      "metadata": {
        "id": "Z3L7BzBaBdO_"
      },
      "source": [
        "x = 2\n",
        "y = 3.0"
      ],
      "execution_count": null,
      "outputs": []
    },
    {
      "cell_type": "code",
      "metadata": {
        "id": "--HDbbs9BfSY"
      },
      "source": [
        "z = x + y"
      ],
      "execution_count": null,
      "outputs": []
    },
    {
      "cell_type": "code",
      "metadata": {
        "id": "nslZdjp7Bgqa",
        "colab": {
          "base_uri": "https://localhost:8080/"
        },
        "outputId": "63a22ffc-7b4c-4320-86ec-687868e79a9e"
      },
      "source": [
        "z"
      ],
      "execution_count": null,
      "outputs": [
        {
          "output_type": "execute_result",
          "data": {
            "text/plain": [
              "5.0"
            ]
          },
          "metadata": {},
          "execution_count": 57
        }
      ]
    },
    {
      "cell_type": "code",
      "metadata": {
        "id": "ORoepJikBiCH",
        "colab": {
          "base_uri": "https://localhost:8080/"
        },
        "outputId": "520c4f39-d3f9-4d8c-9f1d-acf2ee891a8f"
      },
      "source": [
        "print(z)"
      ],
      "execution_count": null,
      "outputs": [
        {
          "output_type": "stream",
          "name": "stdout",
          "text": [
            "5.0\n"
          ]
        }
      ]
    },
    {
      "cell_type": "markdown",
      "metadata": {
        "id": "DWwDjeSzMJSk"
      },
      "source": [
        "### Printing"
      ]
    },
    {
      "cell_type": "code",
      "metadata": {
        "id": "WdA6MTQVMJSk"
      },
      "source": [
        "x = 'hello'"
      ],
      "execution_count": null,
      "outputs": []
    },
    {
      "cell_type": "code",
      "metadata": {
        "id": "zIJsiHJLMJSk",
        "colab": {
          "base_uri": "https://localhost:8080/",
          "height": 35
        },
        "outputId": "b4712a01-90fc-465d-e5be-e372a6b71bc9"
      },
      "source": [
        "x"
      ],
      "execution_count": null,
      "outputs": [
        {
          "output_type": "execute_result",
          "data": {
            "text/plain": [
              "'hello'"
            ],
            "application/vnd.google.colaboratory.intrinsic+json": {
              "type": "string"
            }
          },
          "metadata": {},
          "execution_count": 60
        }
      ]
    },
    {
      "cell_type": "code",
      "metadata": {
        "id": "qlSKLyVoMJSl",
        "colab": {
          "base_uri": "https://localhost:8080/"
        },
        "outputId": "647392dd-2948-4306-c41a-85b0eb5c7916"
      },
      "source": [
        "print(x)"
      ],
      "execution_count": null,
      "outputs": [
        {
          "output_type": "stream",
          "name": "stdout",
          "text": [
            "hello\n"
          ]
        }
      ]
    },
    {
      "cell_type": "code",
      "metadata": {
        "id": "39p4GIShMJSl"
      },
      "source": [
        "num = 12.5\n",
        "name = 'Sam'"
      ],
      "execution_count": null,
      "outputs": []
    },
    {
      "cell_type": "code",
      "metadata": {
        "id": "yTL0r5K2MJSl",
        "colab": {
          "base_uri": "https://localhost:8080/"
        },
        "outputId": "c68dab19-bd87-46ff-b601-3b3969b4a28a"
      },
      "source": [
        "print('My number is: {one}, and my name is: {two}'.format(one=num,two=name))"
      ],
      "execution_count": null,
      "outputs": [
        {
          "output_type": "stream",
          "name": "stdout",
          "text": [
            "My number is: 12.5, and my name is: Sam\n"
          ]
        }
      ]
    },
    {
      "cell_type": "code",
      "metadata": {
        "id": "CImLDizwMJSl"
      },
      "source": [
        "print('My number is: {}, and my name is: {}'.format(num,name))"
      ],
      "execution_count": null,
      "outputs": []
    },
    {
      "cell_type": "code",
      "metadata": {
        "id": "zcLmVRZSMJSl"
      },
      "source": [
        "print('My number is: %s, and my name is: %s'%(num,name))"
      ],
      "execution_count": null,
      "outputs": []
    },
    {
      "cell_type": "markdown",
      "metadata": {
        "id": "5BJQcXROMJSo"
      },
      "source": [
        "### Booleans"
      ]
    },
    {
      "cell_type": "code",
      "metadata": {
        "id": "Aqgtd96AMJSo"
      },
      "source": [
        "True"
      ],
      "execution_count": null,
      "outputs": []
    },
    {
      "cell_type": "code",
      "metadata": {
        "id": "MyHOYUnIMJSo"
      },
      "source": [
        "False"
      ],
      "execution_count": null,
      "outputs": []
    },
    {
      "cell_type": "markdown",
      "metadata": {
        "id": "4ByFpcSLMJSo"
      },
      "source": [
        "### Tuples "
      ]
    },
    {
      "cell_type": "code",
      "metadata": {
        "id": "fGrK8cJRMJSo"
      },
      "source": [
        "t = (1,2,3)"
      ],
      "execution_count": null,
      "outputs": []
    },
    {
      "cell_type": "code",
      "source": [
        "new_t = t + (4,)\n",
        "new_t"
      ],
      "metadata": {
        "colab": {
          "base_uri": "https://localhost:8080/"
        },
        "id": "0k3WA03zWY3k",
        "outputId": "6d1cde8e-a07b-4bae-feaa-adf2f82b0c6a"
      },
      "execution_count": null,
      "outputs": [
        {
          "output_type": "execute_result",
          "data": {
            "text/plain": [
              "(1, 2, 3, 4)"
            ]
          },
          "metadata": {},
          "execution_count": 69
        }
      ]
    },
    {
      "cell_type": "code",
      "metadata": {
        "id": "9isHqOt-MJSo",
        "colab": {
          "base_uri": "https://localhost:8080/",
          "height": 184
        },
        "outputId": "16f61eee-689c-4f6d-d92a-37ac6154e597"
      },
      "source": [
        "#Cannot append or add\n",
        "t.add(4)"
      ],
      "execution_count": null,
      "outputs": [
        {
          "output_type": "error",
          "ename": "AttributeError",
          "evalue": "ignored",
          "traceback": [
            "\u001b[0;31m---------------------------------------------------------------------------\u001b[0m",
            "\u001b[0;31mAttributeError\u001b[0m                            Traceback (most recent call last)",
            "\u001b[0;32m<ipython-input-65-c5c21cce15d9>\u001b[0m in \u001b[0;36m<module>\u001b[0;34m()\u001b[0m\n\u001b[1;32m      1\u001b[0m \u001b[0;31m#Cannot append or add\u001b[0m\u001b[0;34m\u001b[0m\u001b[0;34m\u001b[0m\u001b[0;34m\u001b[0m\u001b[0m\n\u001b[0;32m----> 2\u001b[0;31m \u001b[0mt\u001b[0m\u001b[0;34m.\u001b[0m\u001b[0madd\u001b[0m\u001b[0;34m(\u001b[0m\u001b[0;36m4\u001b[0m\u001b[0;34m)\u001b[0m\u001b[0;34m\u001b[0m\u001b[0;34m\u001b[0m\u001b[0m\n\u001b[0m",
            "\u001b[0;31mAttributeError\u001b[0m: 'tuple' object has no attribute 'add'"
          ]
        }
      ]
    },
    {
      "cell_type": "code",
      "metadata": {
        "id": "7SelQZUKMJSo",
        "colab": {
          "base_uri": "https://localhost:8080/"
        },
        "outputId": "4f22a8f3-3f30-4fab-e7cc-af24daf10a40"
      },
      "source": [
        "t[0]"
      ],
      "execution_count": null,
      "outputs": [
        {
          "output_type": "execute_result",
          "data": {
            "text/plain": [
              "1"
            ]
          },
          "metadata": {},
          "execution_count": 66
        }
      ]
    },
    {
      "cell_type": "code",
      "metadata": {
        "id": "i-CMh9tNMJSo",
        "colab": {
          "base_uri": "https://localhost:8080/",
          "height": 166
        },
        "outputId": "13eaa63c-9635-4b81-b437-5922e6c80d6e"
      },
      "source": [
        "t[0] = 'NEW'"
      ],
      "execution_count": null,
      "outputs": [
        {
          "output_type": "error",
          "ename": "TypeError",
          "evalue": "ignored",
          "traceback": [
            "\u001b[0;31m---------------------------------------------------------------------------\u001b[0m",
            "\u001b[0;31mTypeError\u001b[0m                                 Traceback (most recent call last)",
            "\u001b[0;32m<ipython-input-67-93bfe9be1549>\u001b[0m in \u001b[0;36m<module>\u001b[0;34m()\u001b[0m\n\u001b[0;32m----> 1\u001b[0;31m \u001b[0mt\u001b[0m\u001b[0;34m[\u001b[0m\u001b[0;36m0\u001b[0m\u001b[0;34m]\u001b[0m \u001b[0;34m=\u001b[0m \u001b[0;34m'NEW'\u001b[0m\u001b[0;34m\u001b[0m\u001b[0;34m\u001b[0m\u001b[0m\n\u001b[0m",
            "\u001b[0;31mTypeError\u001b[0m: 'tuple' object does not support item assignment"
          ]
        }
      ]
    },
    {
      "cell_type": "markdown",
      "metadata": {
        "id": "Yn0IqD1zMJSo"
      },
      "source": [
        "### Sets"
      ]
    },
    {
      "cell_type": "code",
      "metadata": {
        "id": "XMFd9g4GMJSp"
      },
      "source": [
        "x = {1,2,3}\n",
        "x[0]"
      ],
      "execution_count": null,
      "outputs": []
    },
    {
      "cell_type": "code",
      "metadata": {
        "id": "bJxgdcRNMJSp"
      },
      "source": [
        "x = {2,3,1,2,1,2,3,3,3,3,2,2,2,1,1,2}\n",
        "x"
      ],
      "execution_count": null,
      "outputs": []
    },
    {
      "cell_type": "code",
      "metadata": {
        "id": "Ryc9B9cOMJSp"
      },
      "source": [
        "x[0] = 5"
      ],
      "execution_count": null,
      "outputs": []
    },
    {
      "cell_type": "code",
      "metadata": {
        "id": "79XPjZ4sMJSp"
      },
      "source": [
        "x.add(5)\n",
        "x"
      ],
      "execution_count": null,
      "outputs": []
    },
    {
      "cell_type": "code",
      "metadata": {
        "id": "UVj4efAJMJSp"
      },
      "source": [
        "x.pop()\n",
        "x"
      ],
      "execution_count": null,
      "outputs": []
    },
    {
      "cell_type": "code",
      "metadata": {
        "id": "oU1KUf6pMJSp"
      },
      "source": [
        "1 > 2"
      ],
      "execution_count": null,
      "outputs": []
    },
    {
      "cell_type": "code",
      "metadata": {
        "id": "mQq2zTiQMJSp"
      },
      "source": [
        "1 < 2"
      ],
      "execution_count": null,
      "outputs": []
    },
    {
      "cell_type": "code",
      "metadata": {
        "id": "SEoKgLnmMJSp"
      },
      "source": [
        "1 >= 1"
      ],
      "execution_count": null,
      "outputs": []
    },
    {
      "cell_type": "code",
      "metadata": {
        "id": "tpW8vKwYMJSp"
      },
      "source": [
        "1 <= 4"
      ],
      "execution_count": null,
      "outputs": []
    },
    {
      "cell_type": "code",
      "metadata": {
        "id": "Ezfuar0eMJSp"
      },
      "source": [
        "1 == 1"
      ],
      "execution_count": null,
      "outputs": []
    },
    {
      "cell_type": "code",
      "metadata": {
        "id": "V5FdRT-kMJSp"
      },
      "source": [
        "'hi'!= 'bye'"
      ],
      "execution_count": null,
      "outputs": []
    },
    {
      "cell_type": "markdown",
      "metadata": {
        "id": "jEDacfUHMJSq"
      },
      "source": [
        "## Logic Operators"
      ]
    },
    {
      "cell_type": "code",
      "metadata": {
        "id": "lWHEU0t5sdGB"
      },
      "source": [
        "1 > 2"
      ],
      "execution_count": null,
      "outputs": []
    },
    {
      "cell_type": "code",
      "metadata": {
        "id": "6BsNHUKZtNbo"
      },
      "source": [
        "1 < 2"
      ],
      "execution_count": null,
      "outputs": []
    },
    {
      "cell_type": "code",
      "metadata": {
        "id": "c-_d4TmltPTi"
      },
      "source": [
        "1 >= 1"
      ],
      "execution_count": null,
      "outputs": []
    },
    {
      "cell_type": "code",
      "metadata": {
        "id": "hjjUvhN4tR0M"
      },
      "source": [
        "1 <= 4"
      ],
      "execution_count": null,
      "outputs": []
    },
    {
      "cell_type": "code",
      "metadata": {
        "id": "IFGfTNu5tTUI"
      },
      "source": [
        "1 == 1"
      ],
      "execution_count": null,
      "outputs": []
    },
    {
      "cell_type": "code",
      "metadata": {
        "id": "9kpPKLoQtVHJ",
        "colab": {
          "base_uri": "https://localhost:8080/"
        },
        "outputId": "36dac0df-b9c6-4365-8717-b9717a8117e0"
      },
      "source": [
        "'hi'!= 'bye'"
      ],
      "execution_count": null,
      "outputs": [
        {
          "output_type": "execute_result",
          "data": {
            "text/plain": [
              "True"
            ]
          },
          "metadata": {},
          "execution_count": 70
        }
      ]
    },
    {
      "cell_type": "code",
      "metadata": {
        "id": "ogSWT5nQMJSq",
        "colab": {
          "base_uri": "https://localhost:8080/"
        },
        "outputId": "2cb18dc1-02bd-4043-f433-8de719037356"
      },
      "source": [
        "(1 > 2) and (2 < 3)"
      ],
      "execution_count": null,
      "outputs": [
        {
          "output_type": "execute_result",
          "data": {
            "text/plain": [
              "False"
            ]
          },
          "metadata": {},
          "execution_count": 71
        }
      ]
    },
    {
      "cell_type": "code",
      "metadata": {
        "id": "n1OOZpesMJSq",
        "colab": {
          "base_uri": "https://localhost:8080/"
        },
        "outputId": "ea924f14-9806-4b7a-b577-c83057c07de2"
      },
      "source": [
        "(1 > 2) or (2 < 3)"
      ],
      "execution_count": null,
      "outputs": [
        {
          "output_type": "execute_result",
          "data": {
            "text/plain": [
              "True"
            ]
          },
          "metadata": {},
          "execution_count": 72
        }
      ]
    },
    {
      "cell_type": "code",
      "metadata": {
        "id": "Xaz66pZpMJSq"
      },
      "source": [
        "(1 == 2) or (2 == 3) or (4 == 4)"
      ],
      "execution_count": null,
      "outputs": []
    },
    {
      "cell_type": "code",
      "metadata": {
        "id": "QyRsK9DXMJSq"
      },
      "source": [
        "not(1!=2)"
      ],
      "execution_count": null,
      "outputs": []
    },
    {
      "cell_type": "markdown",
      "metadata": {
        "id": "M2zWqcSBMJSq"
      },
      "source": [
        "## if,elif, else Statements"
      ]
    },
    {
      "cell_type": "code",
      "metadata": {
        "id": "PyeXmsZOMJSq",
        "colab": {
          "base_uri": "https://localhost:8080/"
        },
        "outputId": "5dff9bfe-c8fd-4dc2-9443-41a604b74039"
      },
      "source": [
        "if 1 > 2:\n",
        "    print('Yep!')\n",
        "print('Test')"
      ],
      "execution_count": null,
      "outputs": [
        {
          "output_type": "stream",
          "name": "stdout",
          "text": [
            "Test\n"
          ]
        }
      ]
    },
    {
      "cell_type": "code",
      "metadata": {
        "id": "dhu28wb3MJSq",
        "colab": {
          "base_uri": "https://localhost:8080/"
        },
        "outputId": "1a8ea597-640f-4a02-c69d-59a8a487d323"
      },
      "source": [
        "if 1 < 2:\n",
        "    print('Yep!')\n",
        "    print(1+2)\n",
        "    print('Hello World!')\n",
        "\n",
        "print('Test')"
      ],
      "execution_count": null,
      "outputs": [
        {
          "output_type": "stream",
          "name": "stdout",
          "text": [
            "Yep!\n",
            "3\n",
            "Hello World!\n",
            "Test\n"
          ]
        }
      ]
    },
    {
      "cell_type": "code",
      "metadata": {
        "id": "q9rMgx5fMJSq",
        "colab": {
          "base_uri": "https://localhost:8080/"
        },
        "outputId": "7d34ffa0-6847-4133-ee5b-874e6b4fb4a3"
      },
      "source": [
        "if 1 < 2:\n",
        "    print('first')\n",
        "else:\n",
        "    print('last')"
      ],
      "execution_count": null,
      "outputs": [
        {
          "output_type": "stream",
          "name": "stdout",
          "text": [
            "first\n"
          ]
        }
      ]
    },
    {
      "cell_type": "code",
      "metadata": {
        "id": "cha3pF4OMJSq"
      },
      "source": [
        "if 1 > 2:\n",
        "    print('first')\n",
        "else:\n",
        "    print('last')"
      ],
      "execution_count": null,
      "outputs": []
    },
    {
      "cell_type": "code",
      "metadata": {
        "id": "lLE2vXmwMJSq"
      },
      "source": [
        "if 1 == 2:\n",
        "    print('first')\n",
        "elif 3 == 3:\n",
        "    print('middle')\n",
        "    if 1<2:\n",
        "        print(\"checking\")\n",
        "else:\n",
        "    print('Last')\n",
        "    \n",
        "print(\"The End\")"
      ],
      "execution_count": null,
      "outputs": []
    },
    {
      "cell_type": "markdown",
      "metadata": {
        "id": "zcDt7eMDMJSr"
      },
      "source": [
        "## range()"
      ]
    },
    {
      "cell_type": "code",
      "metadata": {
        "id": "MP5FRcb2MJSr",
        "colab": {
          "base_uri": "https://localhost:8080/"
        },
        "outputId": "ca316fbf-bd7a-4763-b786-0c5f994e2be4"
      },
      "source": [
        "range(5)"
      ],
      "execution_count": null,
      "outputs": [
        {
          "output_type": "execute_result",
          "data": {
            "text/plain": [
              "range(0, 5)"
            ]
          },
          "metadata": {},
          "execution_count": 76
        }
      ]
    },
    {
      "cell_type": "code",
      "metadata": {
        "id": "bdmQqkIXMJSr",
        "colab": {
          "base_uri": "https://localhost:8080/"
        },
        "outputId": "48fc4ac5-31f7-4351-a122-b5aa11157497"
      },
      "source": [
        "for i in range(5):\n",
        "    print(i)"
      ],
      "execution_count": null,
      "outputs": [
        {
          "output_type": "stream",
          "name": "stdout",
          "text": [
            "0\n",
            "1\n",
            "2\n",
            "3\n",
            "4\n"
          ]
        }
      ]
    },
    {
      "cell_type": "code",
      "metadata": {
        "id": "hM9GsoluMJSs",
        "colab": {
          "base_uri": "https://localhost:8080/"
        },
        "outputId": "272b8217-1c2e-4082-e307-18b7c968b937"
      },
      "source": [
        "list(range(5))"
      ],
      "execution_count": null,
      "outputs": [
        {
          "output_type": "execute_result",
          "data": {
            "text/plain": [
              "[0, 1, 2, 3, 4]"
            ]
          },
          "metadata": {},
          "execution_count": 78
        }
      ]
    },
    {
      "cell_type": "code",
      "metadata": {
        "id": "5_TsKr9RMJSs"
      },
      "source": [
        "#Help for any function\n",
        "?range"
      ],
      "execution_count": null,
      "outputs": []
    },
    {
      "cell_type": "code",
      "metadata": {
        "id": "3QPuWrvbMJSs",
        "colab": {
          "base_uri": "https://localhost:8080/",
          "height": 166
        },
        "outputId": "412217d6-1af1-4f34-a2b7-9342a2a2afc6"
      },
      "source": [
        "range()"
      ],
      "execution_count": null,
      "outputs": [
        {
          "output_type": "error",
          "ename": "TypeError",
          "evalue": "ignored",
          "traceback": [
            "\u001b[0;31m---------------------------------------------------------------------------\u001b[0m",
            "\u001b[0;31mTypeError\u001b[0m                                 Traceback (most recent call last)",
            "\u001b[0;32m<ipython-input-79-5bcbe005bf48>\u001b[0m in \u001b[0;36m<module>\u001b[0;34m()\u001b[0m\n\u001b[0;32m----> 1\u001b[0;31m \u001b[0mrange\u001b[0m\u001b[0;34m(\u001b[0m\u001b[0;34m)\u001b[0m\u001b[0;34m\u001b[0m\u001b[0;34m\u001b[0m\u001b[0m\n\u001b[0m",
            "\u001b[0;31mTypeError\u001b[0m: range expected 1 arguments, got 0"
          ]
        }
      ]
    },
    {
      "cell_type": "code",
      "metadata": {
        "id": "IdAuR1KRMJSs"
      },
      "source": [
        "list(range(1,11,3))"
      ],
      "execution_count": null,
      "outputs": []
    },
    {
      "cell_type": "markdown",
      "metadata": {
        "id": "DYxdqCmkMJSs"
      },
      "source": [
        "## functions"
      ]
    },
    {
      "cell_type": "code",
      "metadata": {
        "id": "LPF48cd4MJSs",
        "colab": {
          "base_uri": "https://localhost:8080/"
        },
        "outputId": "9b6368e0-ce7b-4e68-aa94-a6752613ae0d"
      },
      "source": [
        "def my_func(param1='abc'):\n",
        "    \"\"\"\n",
        "    Docstring goes here.\n",
        "    Put in more details about the parameters.\n",
        "    \"\"\"\n",
        "    print(param1)\n",
        "\n",
        "my_func(123)"
      ],
      "execution_count": null,
      "outputs": [
        {
          "output_type": "stream",
          "name": "stdout",
          "text": [
            "123\n"
          ]
        }
      ]
    },
    {
      "cell_type": "code",
      "source": [
        "def my_func(param1='abc', param2='1'):\n",
        "    \"\"\"\n",
        "    Docstring goes here.\n",
        "    Put in more details about the parameters.\n",
        "    \"\"\"\n",
        "    print(param1, param2)\n",
        "\n",
        "my_func()"
      ],
      "metadata": {
        "colab": {
          "base_uri": "https://localhost:8080/"
        },
        "id": "5GUTYAnsYwRY",
        "outputId": "3d4fc9a8-d2d2-48da-9730-ce1075a8b426"
      },
      "execution_count": null,
      "outputs": [
        {
          "output_type": "stream",
          "name": "stdout",
          "text": [
            "abc 1\n"
          ]
        }
      ]
    },
    {
      "cell_type": "code",
      "metadata": {
        "id": "4jXJBTHOMJSt"
      },
      "source": [
        "my_func"
      ],
      "execution_count": null,
      "outputs": []
    },
    {
      "cell_type": "code",
      "metadata": {
        "id": "Xk6jyTdOMJSt"
      },
      "source": [
        "my_func()"
      ],
      "execution_count": null,
      "outputs": []
    },
    {
      "cell_type": "code",
      "metadata": {
        "id": "SWM7gfYXMJSt"
      },
      "source": [
        "my_func('new 1')"
      ],
      "execution_count": null,
      "outputs": []
    },
    {
      "cell_type": "code",
      "metadata": {
        "id": "_6EVp2nCMJSt"
      },
      "source": [
        "?my_func"
      ],
      "execution_count": null,
      "outputs": []
    },
    {
      "cell_type": "code",
      "metadata": {
        "id": "VCpRh1xgMJSt"
      },
      "source": [
        "my_func(param1='new param')"
      ],
      "execution_count": null,
      "outputs": []
    },
    {
      "cell_type": "code",
      "metadata": {
        "id": "CW0-duSHMJSt"
      },
      "source": [
        "def square(x):\n",
        "    \"\"\"\n",
        "    This function returns the square of any number passed as a parameter\n",
        "    \"\"\"\n",
        "    return x**2"
      ],
      "execution_count": null,
      "outputs": []
    },
    {
      "cell_type": "code",
      "metadata": {
        "id": "0Fkv-N_vMJSt"
      },
      "source": [
        "?square"
      ],
      "execution_count": null,
      "outputs": []
    },
    {
      "cell_type": "code",
      "metadata": {
        "id": "WWLJVkxuMJSt"
      },
      "source": [
        "out = square(4)"
      ],
      "execution_count": null,
      "outputs": []
    },
    {
      "cell_type": "code",
      "metadata": {
        "scrolled": true,
        "id": "lercBy3-MJSt"
      },
      "source": [
        "print(out)"
      ],
      "execution_count": null,
      "outputs": []
    },
    {
      "cell_type": "markdown",
      "metadata": {
        "id": "7t7DtfH4MJSr"
      },
      "source": [
        "## for Loops"
      ]
    },
    {
      "cell_type": "code",
      "metadata": {
        "id": "riG3_CERMJSr"
      },
      "source": [
        "seq = [1,2,3,4,5]"
      ],
      "execution_count": null,
      "outputs": []
    },
    {
      "cell_type": "code",
      "metadata": {
        "id": "hExCI-K_MJSr",
        "colab": {
          "base_uri": "https://localhost:8080/"
        },
        "outputId": "6d850288-05cd-4c6a-b41b-3c6b582c5beb"
      },
      "source": [
        "for item in seq:\n",
        "    print(item)\n",
        "    print('_____')"
      ],
      "execution_count": null,
      "outputs": [
        {
          "output_type": "stream",
          "name": "stdout",
          "text": [
            "1\n",
            "_____\n",
            "2\n",
            "_____\n",
            "3\n",
            "_____\n",
            "4\n",
            "_____\n",
            "5\n",
            "_____\n"
          ]
        }
      ]
    },
    {
      "cell_type": "code",
      "metadata": {
        "id": "Xe_uKYKdMJSr"
      },
      "source": [
        "for item in seq:\n",
        "    print('Yep')"
      ],
      "execution_count": null,
      "outputs": []
    },
    {
      "cell_type": "code",
      "metadata": {
        "id": "x8ubn8DrMJSr"
      },
      "source": [
        "for cat in seq:\n",
        "    print(cat+cat)"
      ],
      "execution_count": null,
      "outputs": []
    },
    {
      "cell_type": "markdown",
      "metadata": {
        "id": "ejq6a4PGMJSr"
      },
      "source": [
        "## while Loops"
      ]
    },
    {
      "cell_type": "code",
      "metadata": {
        "id": "gJv73iu-MJSr",
        "colab": {
          "base_uri": "https://localhost:8080/"
        },
        "outputId": "748aa82b-8731-4f2b-b0f3-dd29f2abcd7c"
      },
      "source": [
        "i = 1\n",
        "while i < 5:\n",
        "    print('i is: {}'.format(i))\n",
        "    i = i+1"
      ],
      "execution_count": null,
      "outputs": [
        {
          "output_type": "stream",
          "name": "stdout",
          "text": [
            "i is: 1\n",
            "i is: 2\n",
            "i is: 3\n",
            "i is: 4\n"
          ]
        }
      ]
    },
    {
      "cell_type": "markdown",
      "metadata": {
        "id": "Q_i7kEV2MJSs"
      },
      "source": [
        "### list comprehension"
      ]
    },
    {
      "cell_type": "code",
      "metadata": {
        "id": "JqrF5U7tMJSs"
      },
      "source": [
        "x = [1,2,3,4]"
      ],
      "execution_count": null,
      "outputs": []
    },
    {
      "cell_type": "code",
      "metadata": {
        "id": "TsIibjXuMJSs"
      },
      "source": [
        "out = []\n",
        "for item in x:\n",
        "    out.append(item**2)\n",
        "print(out)"
      ],
      "execution_count": null,
      "outputs": []
    },
    {
      "cell_type": "code",
      "metadata": {
        "id": "_37j_Xp7MJSs"
      },
      "source": [
        "[item**2 for item in x]"
      ],
      "execution_count": null,
      "outputs": []
    },
    {
      "cell_type": "markdown",
      "metadata": {
        "id": "REZNQ8NKMJSt"
      },
      "source": [
        "## lambda expressions"
      ]
    },
    {
      "cell_type": "code",
      "metadata": {
        "id": "0wRQZ5KoMJSt"
      },
      "source": [
        "def times2(var):\n",
        "    return var*2"
      ],
      "execution_count": null,
      "outputs": []
    },
    {
      "cell_type": "code",
      "metadata": {
        "id": "ijaMRYDAMJSu",
        "colab": {
          "base_uri": "https://localhost:8080/"
        },
        "outputId": "4f528c9d-b16f-47d1-f2ac-b4ffa6c15e3c"
      },
      "source": [
        "times2(1234)"
      ],
      "execution_count": null,
      "outputs": [
        {
          "output_type": "execute_result",
          "data": {
            "text/plain": [
              "2468"
            ]
          },
          "metadata": {},
          "execution_count": 86
        }
      ]
    },
    {
      "cell_type": "code",
      "metadata": {
        "id": "YDP9O-7MMJSu"
      },
      "source": [
        "# Lambda adalah func short hand (mempersingkat syntax)\n",
        "times2_1 = lambda var: var*2"
      ],
      "execution_count": null,
      "outputs": []
    },
    {
      "cell_type": "code",
      "metadata": {
        "id": "1OMoI0A2MJSu",
        "colab": {
          "base_uri": "https://localhost:8080/"
        },
        "outputId": "3b825417-ff8e-4388-c8e6-72083d7ad269"
      },
      "source": [
        "times2_1(1234)"
      ],
      "execution_count": null,
      "outputs": [
        {
          "output_type": "execute_result",
          "data": {
            "text/plain": [
              "2468"
            ]
          },
          "metadata": {},
          "execution_count": 88
        }
      ]
    },
    {
      "cell_type": "markdown",
      "metadata": {
        "id": "zcB8whp0MJSu"
      },
      "source": [
        "## map and filter"
      ]
    },
    {
      "cell_type": "code",
      "metadata": {
        "id": "fpD8Lf_cMJSu"
      },
      "source": [
        "seq = [1,2,3,4,5]"
      ],
      "execution_count": null,
      "outputs": []
    },
    {
      "cell_type": "code",
      "metadata": {
        "id": "rYoZggccMJSu",
        "colab": {
          "base_uri": "https://localhost:8080/"
        },
        "outputId": "10689aaf-a0a6-4975-b6c2-c46c8cc8b367"
      },
      "source": [
        "map(times2,seq)"
      ],
      "execution_count": null,
      "outputs": [
        {
          "output_type": "execute_result",
          "data": {
            "text/plain": [
              "<map at 0x7f157cbd0bd0>"
            ]
          },
          "metadata": {},
          "execution_count": 90
        }
      ]
    },
    {
      "cell_type": "code",
      "metadata": {
        "id": "VFXLEP5rMJSu"
      },
      "source": [
        "list(map(times2_1,seq))"
      ],
      "execution_count": null,
      "outputs": []
    },
    {
      "cell_type": "code",
      "metadata": {
        "id": "LBi7Hxt1MJSu"
      },
      "source": [
        "seq*2"
      ],
      "execution_count": null,
      "outputs": []
    },
    {
      "cell_type": "code",
      "metadata": {
        "id": "H_QARuuJMJSv"
      },
      "source": [
        "list(map(lambda var: var*2,seq))"
      ],
      "execution_count": null,
      "outputs": []
    },
    {
      "cell_type": "code",
      "metadata": {
        "id": "wmMLSPZxMJSv"
      },
      "source": [
        "filter(lambda item: item%2 == 0,seq)"
      ],
      "execution_count": null,
      "outputs": []
    },
    {
      "cell_type": "code",
      "metadata": {
        "id": "uqDekTfmMJSv"
      },
      "source": [
        "list(filter(lambda item: item%2 == 0,seq))"
      ],
      "execution_count": null,
      "outputs": []
    },
    {
      "cell_type": "markdown",
      "metadata": {
        "id": "qAuwE7VgMJSv"
      },
      "source": [
        "## methods"
      ]
    },
    {
      "cell_type": "code",
      "metadata": {
        "id": "0qwsOWnqMJSv"
      },
      "source": [
        "st = 'hello my name is SAM'"
      ],
      "execution_count": null,
      "outputs": []
    },
    {
      "cell_type": "code",
      "metadata": {
        "id": "ph3Ol0I7MJSv"
      },
      "source": [
        "st.lower()"
      ],
      "execution_count": null,
      "outputs": []
    },
    {
      "cell_type": "code",
      "metadata": {
        "id": "w652aCdaMJSv"
      },
      "source": [
        "st.upper()"
      ],
      "execution_count": null,
      "outputs": []
    },
    {
      "cell_type": "code",
      "metadata": {
        "id": "rFrd8tWkMJSv"
      },
      "source": [
        "st.split()"
      ],
      "execution_count": null,
      "outputs": []
    },
    {
      "cell_type": "code",
      "metadata": {
        "id": "tiNSElmvMJSv"
      },
      "source": [
        "tweet = 'Go Sports! #Sports'"
      ],
      "execution_count": null,
      "outputs": []
    },
    {
      "cell_type": "code",
      "metadata": {
        "id": "k3oM5fdSMJSv"
      },
      "source": [
        "tweet.split('#')"
      ],
      "execution_count": null,
      "outputs": []
    },
    {
      "cell_type": "code",
      "metadata": {
        "id": "JdP7WPjeMJSv"
      },
      "source": [
        "tweet.split('#')[1]"
      ],
      "execution_count": null,
      "outputs": []
    },
    {
      "cell_type": "code",
      "metadata": {
        "id": "ZHGJXbc-MJSv"
      },
      "source": [
        "d = {'key1': 'item1', 'key2': 'item2'}\n",
        "d"
      ],
      "execution_count": null,
      "outputs": []
    },
    {
      "cell_type": "code",
      "metadata": {
        "id": "42xLRZ6WMJSw"
      },
      "source": [
        "d.keys()"
      ],
      "execution_count": null,
      "outputs": []
    },
    {
      "cell_type": "code",
      "metadata": {
        "id": "QFu4IavpMJSw"
      },
      "source": [
        "d.items()"
      ],
      "execution_count": null,
      "outputs": []
    },
    {
      "cell_type": "code",
      "metadata": {
        "id": "5iHaJzV4MJSw"
      },
      "source": [
        "lst = [1,2,3]"
      ],
      "execution_count": null,
      "outputs": []
    },
    {
      "cell_type": "code",
      "metadata": {
        "id": "RUPIPxgsMJSw"
      },
      "source": [
        "lst.pop()"
      ],
      "execution_count": null,
      "outputs": []
    },
    {
      "cell_type": "code",
      "metadata": {
        "id": "15k6C_C0MJSw"
      },
      "source": [
        "lst"
      ],
      "execution_count": null,
      "outputs": []
    },
    {
      "cell_type": "code",
      "metadata": {
        "id": "kzBLssiqMJSw"
      },
      "source": [
        "'x' in [1,2,3]"
      ],
      "execution_count": null,
      "outputs": []
    },
    {
      "cell_type": "code",
      "metadata": {
        "id": "yX73qMO2MJSw"
      },
      "source": [
        "'x' in ['x','y','z']"
      ],
      "execution_count": null,
      "outputs": []
    },
    {
      "cell_type": "code",
      "metadata": {
        "id": "8i7ovp-HMJSw"
      },
      "source": [
        ""
      ],
      "execution_count": null,
      "outputs": []
    },
    {
      "cell_type": "markdown",
      "source": [
        "# Numpy"
      ],
      "metadata": {
        "id": "si-oDdJ8aplw"
      }
    },
    {
      "cell_type": "code",
      "source": [
        "# Tidak bisa mengalikan array dengan int, kecuali pakai for loops\n",
        "list_1 = [1,2,3]\n",
        "list_1 * 2\n",
        "\n",
        "# For Loops\n",
        "for i in list_1:\n",
        "  list_new[] = i*2\n",
        "\n",
        "# Tetapi bisa pakai numpy"
      ],
      "metadata": {
        "id": "WsrVXjCMarY9"
      },
      "execution_count": null,
      "outputs": []
    }
  ]
}